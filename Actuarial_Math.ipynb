{
 "cells": [
  {
   "cell_type": "code",
   "id": "initial_id",
   "metadata": {
    "collapsed": true,
    "ExecuteTime": {
     "end_time": "2024-12-07T18:14:27.035799Z",
     "start_time": "2024-12-07T18:14:26.371992Z"
    }
   },
   "source": [
    "import math\n",
    "import pandas as pd\n",
    "import scipy.stats as stats\n",
    "import numpy as np"
   ],
   "outputs": [],
   "execution_count": 1
  },
  {
   "metadata": {
    "ExecuteTime": {
     "end_time": "2024-12-07T18:14:27.042315Z",
     "start_time": "2024-12-07T18:14:27.039810Z"
    }
   },
   "cell_type": "code",
   "source": [
    "def get_poisson_params(data):\n",
    "    # Вычисляем взвешенную сумму произведений k и m\n",
    "    weighted_sum = sum(k * m for k, m in zip(data['k'], data['m']))\n",
    "\n",
    "    # Вычисляем общее количество событий\n",
    "    total_count = sum(data['m'])\n",
    "\n",
    "    # Рассчитываем взвешенное среднее (параметр Пуассона)\n",
    "    weighted_mean = weighted_sum / total_count\n",
    "\n",
    "    return weighted_mean\n"
   ],
   "id": "c557fdc06f36faa2",
   "outputs": [],
   "execution_count": 2
  },
  {
   "metadata": {
    "ExecuteTime": {
     "end_time": "2024-12-07T18:14:27.150494Z",
     "start_time": "2024-12-07T18:14:27.146299Z"
    }
   },
   "cell_type": "code",
   "source": [
    "def get_poisson_gamma_params(data):\n",
    "    # Шаг 1: Считаем общее количество событий\n",
    "    total_count = sum(data['m'])\n",
    "\n",
    "    # Шаг 2: Вычисляем среднее значение (математическое ожидание)\n",
    "    mean_value = sum(k * m for k, m in zip(data['k'], data['m'])) / total_count\n",
    "\n",
    "    # Шаг 3: Вычисляем второй момент\n",
    "    second_moment = sum((k**2) * m for k, m in zip(data['k'], data['m'])) / total_count\n",
    "\n",
    "    # Шаг 4: Определяем дисперсию\n",
    "    variance = second_moment - mean_value**2\n",
    "\n",
    "    # Шаг 5: Рассчитываем параметры альфа (shape) и бета (rate)\n",
    "    alpha = mean_value**2 / (variance - mean_value)\n",
    "    beta = mean_value / (variance - mean_value)\n",
    "\n",
    "    # Возвращаем параметры\n",
    "    return alpha, beta"
   ],
   "id": "75d4ab1b048c4e78",
   "outputs": [],
   "execution_count": 3
  },
  {
   "metadata": {
    "ExecuteTime": {
     "end_time": "2024-12-07T18:14:27.159521Z",
     "start_time": "2024-12-07T18:14:27.155593Z"
    }
   },
   "cell_type": "code",
   "source": [
    "def get_poisson_gaussian_params(data):\n",
    "    # Шаг 1: Считаем общее количество событий\n",
    "    total_count = sum(data['m'])\n",
    "\n",
    "    # Шаг 2: Вычисляем среднее значение (математическое ожидание)\n",
    "    mean_value = sum(k * m for k, m in zip(data['k'], data['m'])) / total_count\n",
    "\n",
    "    # Шаг 3: Вычисляем второй момент\n",
    "    second_moment = sum((k**2) * m for k, m in zip(data['k'], data['m'])) / total_count\n",
    "\n",
    "    # Шаг 4: Определяем дисперсию\n",
    "    variance = second_moment - mean_value**2\n",
    "\n",
    "    # Шаг 5: Рассчитываем параметры гамма (γ) и эта (η)\n",
    "    gamma_param = mean_value\n",
    "    eta_param = (variance / mean_value) - 1\n",
    "\n",
    "    # Возвращаем параметры\n",
    "    return gamma_param, eta_param\n"
   ],
   "id": "4dec545afd36cb82",
   "outputs": [],
   "execution_count": 4
  },
  {
   "metadata": {
    "ExecuteTime": {
     "end_time": "2024-12-07T18:14:27.169684Z",
     "start_time": "2024-12-07T18:14:27.165403Z"
    }
   },
   "cell_type": "code",
   "source": [
    "import math\n",
    "\n",
    "def get_lemaire_params(data):\n",
    "    # Шаг 1: Считаем общее количество событий\n",
    "    total_count = sum(data['m'])\n",
    "\n",
    "    # Шаг 2: Вычисляем математическое ожидание\n",
    "    mean_value = sum(k * m for k, m in zip(data['k'], data['m'])) / total_count\n",
    "\n",
    "    # Шаг 3: Вычисляем второй и третий моменты\n",
    "    second_moment = sum((k**2) * m for k, m in zip(data['k'], data['m'])) / total_count\n",
    "    third_moment = sum((k**3) * m for k, m in zip(data['k'], data['m'])) / total_count\n",
    "\n",
    "    # Шаг 4: Вычисляем параметры Лемера\n",
    "    a = mean_value\n",
    "    b = second_moment - mean_value\n",
    "    c = third_moment - 3 * second_moment + 2 * mean_value\n",
    "\n",
    "    # Шаг 5: Рассчитываем дискриминант и дополнительные термины\n",
    "    discriminant = (c - a * b) / (b - a**2)\n",
    "    additional_term = (a * c - b**2) / (b - a**2)\n",
    "\n",
    "    # Шаг 6: Вычисляем λ1 и λ2 (корни квадратного уравнения)\n",
    "    λ1 = (discriminant - math.sqrt(discriminant**2 - 4 * additional_term)) / 2\n",
    "    λ2 = (discriminant + math.sqrt(discriminant**2 - 4 * additional_term)) / 2\n",
    "\n",
    "    # Шаг 7: Рассчитываем вес\n",
    "    weight = (a - λ2) / (λ1 - λ2)\n",
    "\n",
    "    # Возвращаем результат\n",
    "    return weight, λ1, λ2\n"
   ],
   "id": "99b0e3b0cb810396",
   "outputs": [],
   "execution_count": 5
  },
  {
   "metadata": {
    "ExecuteTime": {
     "end_time": "2024-12-07T18:14:27.178653Z",
     "start_time": "2024-12-07T18:14:27.174652Z"
    }
   },
   "cell_type": "code",
   "source": [
    "def xlop(data):\n",
    "    # Если данных меньше 4, возвращаем их без изменений\n",
    "    if len(data) < 4:\n",
    "        return data\n",
    "\n",
    "    # Создаем копию данных, чтобы не изменять оригинал\n",
    "    reduced_data = data.copy()\n",
    "\n",
    "    # Пока длина данных больше 1 и значение 'm' в последней строке меньше 5\n",
    "    while len(reduced_data) > 1 and reduced_data.iloc[-1]['m'] < 5:\n",
    "        # Находим индекс предпоследней строки\n",
    "        prev_idx = reduced_data.index[-2]\n",
    "\n",
    "        # Добавляем значения последней строки к предпоследней для всех колонок\n",
    "        for col in reduced_data.columns:\n",
    "            reduced_data.loc[prev_idx, col] += reduced_data.iloc[-1][col]\n",
    "\n",
    "        # Удаляем последнюю строку\n",
    "        reduced_data = reduced_data.drop(reduced_data.index[-1])\n",
    "\n",
    "    # Возвращаем обработанные данные\n",
    "    return reduced_data\n"
   ],
   "id": "4ca57bac0886ad0f",
   "outputs": [],
   "execution_count": 6
  },
  {
   "metadata": {
    "ExecuteTime": {
     "end_time": "2024-12-07T18:14:27.186899Z",
     "start_time": "2024-12-07T18:14:27.183996Z"
    }
   },
   "cell_type": "code",
   "source": [
    "def get_poisson_data(data, λ):\n",
    "    # Создаем копию данных, чтобы не изменять оригинал\n",
    "    poisson_dist = data.copy()\n",
    "\n",
    "    # Считаем общее количество событий\n",
    "    total_count = sum(data['m'])\n",
    "\n",
    "    # Вычисляем вероятности для каждого значения k на основе параметра λ (лямбда)\n",
    "    poisson_dist['p'] = stats.poisson.pmf(data['k'], λ)\n",
    "\n",
    "    # Оцениваем значения m (частоты) на основе распределения Пуассона\n",
    "    poisson_dist['m_estimand'] = round(poisson_dist['p'] * total_count)\n",
    "\n",
    "    # Уменьшаем данные с использованием функции xlop\n",
    "    return xlop(poisson_dist)\n"
   ],
   "id": "453ba2601df8f07e",
   "outputs": [],
   "execution_count": 7
  },
  {
   "metadata": {
    "ExecuteTime": {
     "end_time": "2024-12-07T18:14:27.195289Z",
     "start_time": "2024-12-07T18:14:27.191790Z"
    }
   },
   "cell_type": "code",
   "source": [
    "def get_poisson_gamma_data(data, alpha, beta):\n",
    "    # Создаем копию данных, чтобы не изменять оригинальный DataFrame\n",
    "    pg_dist = data.copy()\n",
    "\n",
    "    # Считаем общее количество событий\n",
    "    total_count = sum(data['m'])\n",
    "\n",
    "    # Вычисляем вероятности для каждого значения k на основе отрицательного биномиального распределения\n",
    "    # alpha - это параметр формы, beta / (1 + beta) - вероятность успеха\n",
    "    pg_dist['p'] = stats.nbinom.pmf(data['k'], alpha, beta / (1 + beta))\n",
    "\n",
    "    # Оцениваем значения m (частоты) как произведение вероятности и общего числа событий\n",
    "    pg_dist['m_estimand'] = round(pg_dist['p'] * total_count)\n",
    "\n",
    "    # Возвращаем DataFrame с рассчитанными вероятностями и частотами\n",
    "    return pg_dist\n"
   ],
   "id": "a807f42be3808109",
   "outputs": [],
   "execution_count": 8
  },
  {
   "metadata": {
    "ExecuteTime": {
     "end_time": "2024-12-07T18:14:27.204241Z",
     "start_time": "2024-12-07T18:14:27.200169Z"
    }
   },
   "cell_type": "code",
   "source": [
    "def get_poisson_gaussian_data(data, gamma_param, eta_param):\n",
    "    # Создаем копию данных, чтобы не изменять оригинальный DataFrame\n",
    "    pg_dist = data.copy()\n",
    "\n",
    "    # Считаем общее количество событий\n",
    "    total_count = sum(data['m'])\n",
    "\n",
    "    # Инициализируем массив вероятностей для значений k\n",
    "    probabilities = np.zeros(data['k'].max() + 1)\n",
    "\n",
    "    # Вычисляем вероятности на основе рекуррентной формулы\n",
    "    for idx in range(probabilities.size):\n",
    "        if idx == 0:\n",
    "            # Первая вероятность для k=0\n",
    "            probabilities[0] = math.exp(gamma_param * (1 - math.sqrt(1 + 2 * eta_param)) / eta_param)\n",
    "        elif idx == 1:\n",
    "            # Вероятность для k=1\n",
    "            probabilities[1] = probabilities[0] * gamma_param / math.sqrt(1 + 2 * eta_param)\n",
    "        else:\n",
    "            # Рекуррентная формула для k>=2\n",
    "            probabilities[idx] = (\n",
    "                probabilities[idx - 1] * eta_param * (idx - 1) * (2 * idx - 3) +\n",
    "                probabilities[idx - 2] * gamma_param**2\n",
    "            ) / ((1 + 2 * eta_param) * idx * (idx - 1))\n",
    "\n",
    "    # Присваиваем вычисленные вероятности для каждого значения k в данных\n",
    "    pg_dist['p'] = probabilities[data['k']]\n",
    "\n",
    "    # Оцениваем значения m (частоты) как произведение вероятностей и общего числа событий\n",
    "    pg_dist['m_estimand'] = round(pg_dist['p'] * total_count)\n",
    "\n",
    "    # Возвращаем результат после обработки xlop\n",
    "    return xlop(pg_dist)\n"
   ],
   "id": "514f7c31863345b3",
   "outputs": [],
   "execution_count": 9
  },
  {
   "metadata": {
    "ExecuteTime": {
     "end_time": "2024-12-07T18:14:27.212815Z",
     "start_time": "2024-12-07T18:14:27.208784Z"
    }
   },
   "cell_type": "code",
   "source": [
    "def get_lemaire_data(data, weight1, λ1, λ2):\n",
    "    # Создаем копию данных, чтобы не изменять оригинальный DataFrame\n",
    "    lemaire_dist = data.copy()\n",
    "\n",
    "    # Считаем общее количество событий\n",
    "    total_count = sum(data['m'])\n",
    "\n",
    "    # Вычисляем второй вес как 1 минус первый\n",
    "    weight2 = 1 - weight1\n",
    "\n",
    "    # Рассчитываем вероятности как смесь двух распределений Пуассона с параметрами λ1 и λ2\n",
    "    # Используется веса для каждого из распределений\n",
    "    lemaire_dist['p'] = (weight1 * stats.poisson.pmf(data['k'], λ1) +\n",
    "                         weight2 * stats.poisson.pmf(data['k'], λ2))\n",
    "\n",
    "    # Оцениваем значения m (частоты) как произведение вероятности и общего числа событий\n",
    "    lemaire_dist['m_estimand'] = round(lemaire_dist['p'] * total_count)\n",
    "\n",
    "    # Возвращаем результат после применения функции xlop для обработки данных\n",
    "    return xlop(lemaire_dist)\n"
   ],
   "id": "63ecdad63fe76485",
   "outputs": [],
   "execution_count": 10
  },
  {
   "metadata": {
    "ExecuteTime": {
     "end_time": "2024-12-07T18:14:27.220790Z",
     "start_time": "2024-12-07T18:14:27.217381Z"
    }
   },
   "cell_type": "code",
   "source": [
    "def get_pvalue(new_data, num_params):\n",
    "    # Фильтруем данные, оставляем только те строки, где m_estimand больше нуля\n",
    "    filtered_data = new_data[new_data['m_estimand'] > 0]\n",
    "\n",
    "    # Вычисляем статистику хи-квадрат\n",
    "    chi_squared_stat = sum((filtered_data['m'] - filtered_data['m_estimand'])**2 / filtered_data['m_estimand'])\n",
    "\n",
    "    # Степени свободы: количество строк минус количество параметров минус 1\n",
    "    dof = len(filtered_data) - num_params - 1\n",
    "\n",
    "    # Вычисляем p-значение для хи-квадрат статистики с помощью распределения хи-квадрат\n",
    "    p_val = 1 - stats.chi2.cdf(chi_squared_stat, dof)\n",
    "\n",
    "    return p_val\n"
   ],
   "id": "91c77f6efb59b10c",
   "outputs": [],
   "execution_count": 11
  },
  {
   "metadata": {
    "ExecuteTime": {
     "end_time": "2024-12-07T18:14:27.229378Z",
     "start_time": "2024-12-07T18:14:27.226026Z"
    }
   },
   "cell_type": "code",
   "source": [
    "def get_result(threshold, p_poisson, p_pg, p_pg_dist, p_lemaire):\n",
    "    # Список методов для каждого из p-значений\n",
    "    methods = ['Poisson', 'Poisson-Gamma', 'Inverse Gaussian', 'Lemaire']\n",
    "\n",
    "    # Создаем DataFrame с методами и их соответствующими p-значениями\n",
    "    results = pd.DataFrame({'Method': methods, 'p-value': [p_poisson, p_pg, p_pg_dist, p_lemaire]})\n",
    "\n",
    "    # Инициализируем колонку Rank значением 'Not Suitable'\n",
    "    results['Rank'] = 'Not Suitable'\n",
    "\n",
    "    # Фильтруем модели, которые проходят пороговое значение p-value\n",
    "    passing_models = results[results['p-value'] > threshold].sort_values('p-value', ascending=False)\n",
    "\n",
    "    # Присваиваем ранг моделям, которые проходят порог\n",
    "    if len(passing_models) > 0:\n",
    "        for rank, idx in enumerate(passing_models.index, start=1):\n",
    "            results.loc[idx, 'Rank'] = rank\n",
    "\n",
    "    # Форматируем p-value до 14 знаков после запятой\n",
    "    results['p-value'] = results['p-value'].map('{:.14f}'.format)\n",
    "\n",
    "    return results\n"
   ],
   "id": "96fcef9c6955a675",
   "outputs": [],
   "execution_count": 12
  },
  {
   "metadata": {
    "ExecuteTime": {
     "end_time": "2024-12-07T18:14:27.258947Z",
     "start_time": "2024-12-07T18:14:27.235619Z"
    }
   },
   "cell_type": "code",
   "source": [
    "df = pd.DataFrame({\n",
    "    'k': [0, 1, 2, 3, 4, 5, 6, 7, 8, 9, 10],\n",
    "    'm': [1624, 490, 208, 98, 48, 23, 10, 5, 3, 2, 1]\n",
    "})\n",
    "\n",
    "α = 0.05\n",
    "\n",
    "λ = get_poisson_params(df)\n",
    "a, b = get_poisson_gamma_params(df)\n",
    "g, h = get_poisson_gaussian_params(df)\n",
    "a1, λ1, λ2 = get_lemaire_params(df)\n",
    "\n",
    "result = get_result(\n",
    "    α,\n",
    "    get_pvalue(\n",
    "        get_poisson_data(df, λ), 1),\n",
    "    get_pvalue(\n",
    "        get_poisson_gamma_data(df, a, b), 2),\n",
    "    get_pvalue(\n",
    "        get_poisson_gaussian_data(df, g, h), 2),\n",
    "    get_pvalue(\n",
    "        get_lemaire_data(df, a1, λ1, λ2), 3)\n",
    ")\n",
    "\n",
    "print(result)\n"
   ],
   "id": "d1988e6f56aa4e4c",
   "outputs": [
    {
     "name": "stdout",
     "output_type": "stream",
     "text": [
      "             Method           p-value          Rank\n",
      "0           Poisson  0.00000000000000  Not Suitable\n",
      "1     Poisson-Gamma  0.99230828625810             1\n",
      "2  Inverse Gaussian  0.00243887483111  Not Suitable\n",
      "3           Lemaire  0.00000011461736  Not Suitable\n"
     ]
    }
   ],
   "execution_count": 13
  }
 ],
 "metadata": {
  "kernelspec": {
   "display_name": "Python 3",
   "language": "python",
   "name": "python3"
  },
  "language_info": {
   "codemirror_mode": {
    "name": "ipython",
    "version": 2
   },
   "file_extension": ".py",
   "mimetype": "text/x-python",
   "name": "python",
   "nbconvert_exporter": "python",
   "pygments_lexer": "ipython2",
   "version": "2.7.6"
  }
 },
 "nbformat": 4,
 "nbformat_minor": 5
}
